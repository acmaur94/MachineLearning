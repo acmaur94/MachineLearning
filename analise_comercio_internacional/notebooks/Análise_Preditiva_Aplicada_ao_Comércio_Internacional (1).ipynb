{
  "nbformat": 4,
  "nbformat_minor": 0,
  "metadata": {
    "colab": {
      "provenance": []
    },
    "kernelspec": {
      "name": "python3",
      "display_name": "Python 3"
    },
    "language_info": {
      "name": "python"
    }
  },
  "cells": [
    {
      "cell_type": "markdown",
      "source": [
        "# Análise Preditiva Aplicada ao Comércio Internacional\n",
        "**Disciplina:** Análise Preditiva  \n",
        "**Aluno:** Letícia Araújo Costa; Ándre Carvalho; Ítalo Timbó Santos\n",
        "\n",
        "---\n",
        "\n",
        "## 1. Introdução\n",
        "\n",
        "O presente trabalho tem como objetivo realizar uma análise preditiva sobre dados de exportação e importação, aplicando técnicas de **regressão**. Utilizaremos um modelo de machine learning para prever o valor financeiro das transações comerciais, considerando características como o tipo de fluxo (exportação ou importação), os países envolvidos, o setor do produto e o ano da operação.\n",
        "\n",
        "Essa previsão é de extrema relevância para auxiliar na tomada de decisões estratégicas no comércio internacional, permitindo entender tendências e comportamentos de mercado.\n",
        "\n",
        "---\n",
        "\n",
        "## 2. Descrição do Dataset\n",
        "\n",
        "O dataset utilizado contém registros de transações comerciais, com as seguintes variáveis:\n",
        "\n",
        "- **Fluxo_Comercial:** Indica se a operação é de exportação ou importação.  \n",
        "- **Economia_Relatora:** País que está reportando a transação.  \n",
        "- **Produto_Setor:** Categoria do produto transacionado.  \n",
        "- **Economia_Parceira:** País parceiro na transação.  \n",
        "- **Ano:** Ano da realização da transação.  \n",
        "- **Valor:** Valor financeiro da transação (em dólares).  \n",
        "- **Tipo:** Nível de agregação (país).\n",
        "\n",
        "---\n",
        "\n",
        "## 3. Metodologia\n",
        "\n",
        "### 3.1 Escolha da Técnica\n",
        "\n",
        "Optou-se pela utilização de um modelo de **Regressão**, pois o problema consiste em prever uma variável contínua (**Valor** das transações). Entre os modelos possíveis, escolhemos o **Random Forest Regressor**, uma técnica robusta para dados tabulares, que lida bem com variáveis categóricas e não requer normalização dos dados.\n",
        "\n",
        "### 3.2 Etapas Realizadas\n",
        "\n",
        "- Análise exploratória e pré-processamento dos dados.  \n",
        "- Codificação de variáveis categóricas com Label Encoding.  \n",
        "- Divisão dos dados em conjuntos de treino (80%) e teste (20%).  \n",
        "- Treinamento do modelo Random Forest Regressor.  \n",
        "- Avaliação do desempenho utilizando métricas de erro e R².  \n",
        "\n",
        "---\n"
      ],
      "metadata": {
        "id": "pPy2llWNzzCo"
      }
    },
    {
      "cell_type": "code",
      "source": [
        "# Importar bibliotecas\n",
        "import pandas as pd\n",
        "from sklearn.model_selection import train_test_split\n",
        "from sklearn.ensemble import RandomForestRegressor\n",
        "from sklearn.metrics import mean_absolute_error, mean_squared_error, r2_score\n",
        "from sklearn.preprocessing import LabelEncoder\n",
        "import numpy as np\n",
        "import warnings\n",
        "warnings.filterwarnings('ignore')\n",
        "\n",
        "\n",
        "# Carregar o dataset\n",
        "df = pd.read_csv('df_exportacao_importacao_classificado.csv')\n",
        "\n",
        "# Remover valores nulos na coluna alvo\n",
        "df = df.dropna(subset=['Valor'])\n",
        "\n",
        "# Definir variáveis independentes e alvo\n",
        "X = df[['Fluxo_Comercial', 'Economia_Relatora', 'Produto_Setor', 'Economia_Parceira', 'Ano']]\n",
        "y = df['Valor']\n",
        "\n",
        "# Codificar variáveis categóricas\n",
        "label_encoders = {}\n",
        "for column in ['Fluxo_Comercial', 'Economia_Relatora', 'Produto_Setor', 'Economia_Parceira']:\n",
        "    le = LabelEncoder()\n",
        "    X[column] = le.fit_transform(X[column])\n",
        "    label_encoders[column] = le\n",
        "\n",
        "# Dividir dados em treino e teste\n",
        "X_train, X_test, y_train, y_test = train_test_split(\n",
        "    X, y, test_size=0.2, random_state=42\n",
        ")\n",
        "\n",
        "# Instanciar o modelo\n",
        "model = RandomForestRegressor(n_estimators=100, random_state=42)\n",
        "\n",
        "# Treinar o modelo\n",
        "model.fit(X_train, y_train)\n",
        "\n",
        "# Fazer previsões\n",
        "y_pred = model.predict(X_test)\n",
        "\n",
        "# Avaliar o modelo\n",
        "mae = mean_absolute_error(y_test, y_pred)\n",
        "mse = mean_squared_error(y_test, y_pred)\n",
        "rmse = np.sqrt(mse)\n",
        "r2 = r2_score(y_test, y_pred)\n",
        "\n",
        "# Exibir resultados\n",
        "print(f'MAE: {mae:,.2f}')\n",
        "print(f'RMSE: {rmse:,.2f}')\n",
        "print(f'R²: {r2:.3f}')"
      ],
      "metadata": {
        "colab": {
          "base_uri": "https://localhost:8080/"
        },
        "id": "T7MRVh8F0ZrS",
        "outputId": "bacb281b-378e-4809-af0a-404d5c4d11af"
      },
      "execution_count": 6,
      "outputs": [
        {
          "output_type": "stream",
          "name": "stdout",
          "text": [
            "MAE: 10,209,318,557.80\n",
            "RMSE: 74,575,565,417.28\n",
            "R²: 0.991\n"
          ]
        }
      ]
    },
    {
      "cell_type": "markdown",
      "source": [
        "---\n",
        "\n",
        "## 5. Avaliação dos Resultados\n",
        "\n",
        "As métricas de avaliação obtidas foram:\n",
        "\n",
        "| Métrica | Valor                          |\n",
        "|---------|---------------------------------|\n",
        "| MAE     | ≈ 10,2 bilhões de dólares       |\n",
        "| RMSE    | ≈ 74,57 bilhões de dólares      |\n",
        "| R²      | 0,991                           |\n",
        "\n",
        "### Interpretação:\n",
        "\n",
        "- O modelo apresenta um **R² de 0,991**, o que indica que explica **99,1% da variabilidade dos dados**, caracterizando um excelente ajuste.\n",
        "- O **MAE** e o **RMSE** são relativamente altos devido à **escala dos valores financeiros do comércio internacional**, que operam frequentemente na casa dos bilhões.\n",
        "- O modelo se mostrou **eficiente**, embora o impacto de **outliers** e de **transações extremamente altas** seja perceptível nas métricas de erro.\n",
        "\n",
        "---\n",
        "\n",
        "## 6. Conclusão\n",
        "\n",
        "Este trabalho demonstrou a aplicação prática de técnicas de **Machine Learning**, mais especificamente de **Regressão com Random Forest**, para prever valores de **transações comerciais internacionais**.\n",
        "\n",
        "O modelo apresentou **excelente desempenho**, indicando que variáveis como **país de origem, parceiro, tipo de produto, ano e tipo de fluxo** são preditores relevantes para o valor das transações.\n"
      ],
      "metadata": {
        "id": "Ggu23rFe0kuj"
      }
    }
  ]
}